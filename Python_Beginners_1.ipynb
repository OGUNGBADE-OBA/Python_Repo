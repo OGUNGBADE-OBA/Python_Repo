{
 "cells": [
  {
   "attachments": {},
   "cell_type": "markdown",
   "id": "14c8e2db",
   "metadata": {},
   "source": [
    "# First Code"
   ]
  },
  {
   "cell_type": "code",
   "execution_count": 20,
   "id": "435bf40d",
   "metadata": {},
   "outputs": [
    {
     "name": "stdout",
     "output_type": "stream",
     "text": [
      "Hello World\n"
     ]
    }
   ],
   "source": [
    "print(\"Hello World\")\n"
   ]
  },
  {
   "cell_type": "code",
   "execution_count": null,
   "id": "7ef93677",
   "metadata": {},
   "outputs": [],
   "source": []
  },
  {
   "cell_type": "code",
   "execution_count": null,
   "id": "9af632ab",
   "metadata": {},
   "outputs": [],
   "source": []
  },
  {
   "cell_type": "code",
   "execution_count": 43,
   "id": "02f13206",
   "metadata": {},
   "outputs": [
    {
     "name": "stdout",
     "output_type": "stream",
     "text": [
      "None\n",
      "The smallest number in the list is -5\n"
     ]
    }
   ],
   "source": [
    "#search minFromList(L,n)\n",
    "\n",
    "L = [10, 30,-5,9,-1,13]\n",
    "print(L)\n",
    "print(\"The smallest number in the list is\", L[0])\n"
   ]
  },
  {
   "cell_type": "code",
   "execution_count": 47,
   "id": "2f9522dd",
   "metadata": {},
   "outputs": [
    {
     "name": "stdout",
     "output_type": "stream",
     "text": [
      "4\n",
      "8\n",
      "4.894\n"
     ]
    }
   ],
   "source": [
    "print (round(4.338))\n",
    "print (round(7.838))\n",
    "print (round(4.894, 3))"
   ]
  },
  {
   "cell_type": "code",
   "execution_count": 51,
   "id": "615ffb85",
   "metadata": {},
   "outputs": [
    {
     "name": "stdout",
     "output_type": "stream",
     "text": [
      "(5, 2)\n",
      "(3, 0)\n",
      "1\n"
     ]
    }
   ],
   "source": [
    "#27/5 = 5 rem 2\n",
    "\n",
    "print (divmod(27, 5))\n",
    "print (divmod(9, 3))\n",
    "\n",
    "div = (divmod(19, 3))\n",
    "print (div[1])"
   ]
  },
  {
   "cell_type": "code",
   "execution_count": 56,
   "id": "6bce4a1e",
   "metadata": {},
   "outputs": [
    {
     "name": "stdout",
     "output_type": "stream",
     "text": [
      "3 4\n"
     ]
    }
   ],
   "source": [
    "a =10//3\n",
    "b =12//3\n",
    "print (a, b)"
   ]
  },
  {
   "cell_type": "code",
   "execution_count": 70,
   "id": "d106c0b6",
   "metadata": {},
   "outputs": [
    {
     "name": "stdout",
     "output_type": "stream",
     "text": [
      "False False\n"
     ]
    }
   ],
   "source": [
    "res = isinstance(2, float)\n",
    "ress = isinstance(2+3j, (int, complex))\n",
    "print (res, ress)"
   ]
  },
  {
   "cell_type": "code",
   "execution_count": null,
   "id": "3b58df97",
   "metadata": {},
   "outputs": [
    {
     "data": {
      "text/plain": [
       "4"
      ]
     },
     "execution_count": 26,
     "metadata": {},
     "output_type": "execute_result"
    }
   ],
   "source": [
    "pow(2,2)\n"
   ]
  },
  {
   "cell_type": "raw",
   "id": "d35fe771",
   "metadata": {},
   "source": [
    "#Taking user input"
   ]
  },
  {
   "cell_type": "code",
   "execution_count": 72,
   "id": "6ea784d7",
   "metadata": {},
   "outputs": [
    {
     "name": "stdout",
     "output_type": "stream",
     "text": [
      "qc\n"
     ]
    }
   ],
   "source": [
    "strg = input(\"Enter your name: \")\n",
    "print (strg)"
   ]
  },
  {
   "cell_type": "code",
   "execution_count": 28,
   "id": "dceb9a60",
   "metadata": {},
   "outputs": [
    {
     "name": "stdout",
     "output_type": "stream",
     "text": [
      "ogun\n"
     ]
    }
   ],
   "source": [
    "print (str)"
   ]
  },
  {
   "cell_type": "code",
   "execution_count": 82,
   "id": "3b1c7e37",
   "metadata": {},
   "outputs": [
    {
     "name": "stdout",
     "output_type": "stream",
     "text": [
      "200\n"
     ]
    }
   ],
   "source": [
    "intNum = int(input (\"Enter a real number: \"))\n",
    "print (intNum*2)"
   ]
  },
  {
   "cell_type": "code",
   "execution_count": 83,
   "id": "8049677e",
   "metadata": {},
   "outputs": [
    {
     "name": "stdout",
     "output_type": "stream",
     "text": [
      "You entered a real number: 100.\n"
     ]
    }
   ],
   "source": [
    "#isinstance(intNum, int)\n",
    "\n",
    "if (type (intNum) == int): \n",
    "    print (\"You entered a real number: {}.\".format(intNum))\n",
    "else:\n",
    "    print (\"You did not enter a real number {}.\". format(intNum))\n",
    "  \n"
   ]
  },
  {
   "cell_type": "code",
   "execution_count": 95,
   "id": "5e0d6092",
   "metadata": {},
   "outputs": [
    {
     "name": "stdout",
     "output_type": "stream",
     "text": [
      "{'name': 'Bukunmi', 'age': 15}\n",
      "True\n"
     ]
    }
   ],
   "source": [
    "#Dictionary \n",
    "dic = {\"name\":\"Bukunmi\", \"age\":15}\n",
    "print (dic)\n",
    "print (\"age\" in dic)\n",
    "\n"
   ]
  },
  {
   "cell_type": "code",
   "execution_count": 104,
   "id": "507c6b40",
   "metadata": {},
   "outputs": [
    {
     "name": "stdout",
     "output_type": "stream",
     "text": [
      "[1, 3, 'ëst', [2, 3], 'you']\n",
      "[1, 3, 'ëst', [2, 3], 'you', 8]\n",
      "6\n"
     ]
    }
   ],
   "source": [
    "#list\n",
    "lst = [1, 3, \"ëst\", [2, 3], \"you\"]\n",
    "print (lst) \n",
    "lst.append(8)\n",
    "print (lst) \n",
    "lst[0] = 5\n",
    "print (len(lst)) "
   ]
  },
  {
   "cell_type": "code",
   "execution_count": 33,
   "id": "8b10f06a",
   "metadata": {},
   "outputs": [
    {
     "name": "stdout",
     "output_type": "stream",
     "text": [
      "(1, 2, 3, 'you')\n"
     ]
    }
   ],
   "source": [
    "#Tuple\n",
    "tpl = (1, 2, 3, \"you\")\n",
    "print (tpl)"
   ]
  },
  {
   "cell_type": "code",
   "execution_count": 105,
   "id": "04b40287",
   "metadata": {},
   "outputs": [
    {
     "name": "stdout",
     "output_type": "stream",
     "text": [
      "x is not y\n"
     ]
    }
   ],
   "source": [
    "x=0\n",
    "y=\"you\"\n",
    "\n",
    "if x==y:\n",
    "    print (\"x and y are equal\")\n",
    "else:\n",
    "    print(\"x is not y\")"
   ]
  },
  {
   "cell_type": "code",
   "execution_count": 110,
   "id": "a9a8c488",
   "metadata": {},
   "outputs": [
    {
     "name": "stdout",
     "output_type": "stream",
     "text": [
      "1 1\n",
      "2 2\n",
      "3 3\n",
      "4 4\n",
      "5 5\n",
      "6 6\n",
      "7 7\n",
      "8 8\n",
      "9 9\n",
      "10 10\n"
     ]
    }
   ],
   "source": [
    "x=0\n",
    "z = 1\n",
    "y= int(input(\"Enter your counter: \"))\n",
    "\n",
    "if(y>x):\n",
    "    while (z <= y):\n",
    "        print (z,z)\n",
    "        z+=1\n",
    "        "
   ]
  },
  {
   "cell_type": "code",
   "execution_count": 36,
   "id": "da4dfd8e",
   "metadata": {},
   "outputs": [
    {
     "name": "stdout",
     "output_type": "stream",
     "text": [
      "computer\n",
      "book\n",
      "mouse\n",
      "others\n"
     ]
    }
   ],
   "source": [
    "# Loop\n",
    "\n",
    "lst = [\"computer\", \"book\", \"mouse\", \"others\"]\n",
    "\n",
    "for i in range(len (lst)):\n",
    "    print(lst[i])"
   ]
  },
  {
   "cell_type": "code",
   "execution_count": 117,
   "id": "5ae8b152",
   "metadata": {},
   "outputs": [
    {
     "name": "stdout",
     "output_type": "stream",
     "text": [
      "1\n",
      "2\n",
      "3\n",
      "4\n",
      "6\n",
      "7\n",
      "8\n",
      "9\n"
     ]
    }
   ],
   "source": [
    "#for loop with Continue\n",
    "\n",
    "for i in range (1, 10):\n",
    "    \n",
    "    if (i==5):\n",
    "        #a = 5\n",
    "        continue\n",
    "    print (i)"
   ]
  },
  {
   "cell_type": "code",
   "execution_count": 38,
   "id": "df63dd6a",
   "metadata": {},
   "outputs": [
    {
     "data": {
      "text/plain": [
       "'\\'os.rename (current_file_name, new_file_name)\\nos.remove (\"current_file_name\")\\n\\n#Modes \\n\\nr    Read only\\nrb   Read in binary format\\nr+   Read and wrie\\nrb+  Read and write in binary format\\nw    Write only, create if not exist\\nwb   Write only in binary, creates if not exist\\na    Append\\nab   Append in binary\\na+   Append and read\\nab+  Append and read in  binary \\nw+   Writing and reading\\nwb+Writing and reading in binary form'"
      ]
     },
     "execution_count": 38,
     "metadata": {},
     "output_type": "execute_result"
    }
   ],
   "source": [
    "# FIle FUnctions\n",
    "\n",
    "#opens a file\n",
    "file_Object = open(file_name, [access_mode])\n",
    "\n",
    "#Renames a file\n",
    "os.rename (current_file_name, new_file_name)\n",
    "os.remove (\"current_file_name\")\n",
    "\n",
    "#Modes \n",
    "\n",
    "r    Read only\n",
    "rb   Read in binary format\n",
    "r+   Read and write\n",
    "rb+  Read and write in binary format\n",
    "w    Write only, create if not exist\n",
    "wb   Write only in binary, creates if not exist\n",
    "a    Append\n",
    "ab   Append in binary\n",
    "a+   Append and read\n",
    "ab+  Append and read in  binary \n",
    "w+   Writing and reading\n",
    "wb+Writing and reading in binary form"
   ]
  },
  {
   "cell_type": "code",
   "execution_count": 118,
   "id": "f4420ec9",
   "metadata": {},
   "outputs": [
    {
     "name": "stdout",
     "output_type": "stream",
     "text": [
      "No, 'expensive' is NOT present.\n"
     ]
    }
   ],
   "source": [
    "txt = \"The best things in life are free!\"\n",
    "if \"expensive\" not in txt:\n",
    "  print(\"No, 'expensive' is NOT present.\")"
   ]
  },
  {
   "cell_type": "code",
   "execution_count": 133,
   "id": "c3a5dca9",
   "metadata": {},
   "outputs": [
    {
     "name": "stdout",
     "output_type": "stream",
     "text": [
      "\n",
      " Hello you, welcome to Python:\n",
      " Hello you, welcome to Python:\n",
      " Hello you, welcome to Python:\n",
      " Hello you, welcome to Python:\n",
      " Hello you, welcome to Python:\n",
      " Hello you, welcome to Python:\n",
      " Hello you, welcome to Python:\n",
      " Hello you, welcome to Python:\n",
      " Hello you, welcome to Python: sir/ma, welcome to Python:\n",
      " Hello Everyone, welcome to Python:\n",
      " Hello Everyone, welcome to Python:\n",
      " Hello Everyone, welcome to Python:\n",
      " Hello Everyone, welcome to Python:\n",
      " Hello Everyone, welcome to Python:\n",
      " Hello Everyone, welcome to Python:\n",
      " Hello Everyone, welcome to Python:\n",
      " Hello Everyone, welcome to Python:\n",
      " Hello Everyone, welcome to Python:\n"
     ]
    }
   ],
   "source": [
    "#Create text Doc Write and Print\n",
    "\n",
    "import os\n",
    "#Myfiletest = \"\"\n",
    "Myfiletest = open(\"PyFileWite.txt\", \"w+\")\n",
    "\n",
    "for i in range(1, 10):\n",
    "    Myfiletest.write(\"\\n Hello you, welcome to Python:\")\n",
    "    \n",
    "Myfiletest = open(\"PyFileWite.txt\", \"r\")   \n",
    "print (Myfiletest.read())"
   ]
  },
  {
   "cell_type": "code",
   "execution_count": 141,
   "id": "db4f2cc3",
   "metadata": {},
   "outputs": [
    {
     "name": "stdout",
     "output_type": "stream",
     "text": [
      "\n",
      " Hello, welcome to Python:\n",
      " Hello, welcome to Python:\n",
      " Hello, welcome to Python:\n",
      " Hello, welcome to Python:\n",
      " Hello, welcome to Python:\n",
      " Hello, welcome to Python:\n",
      " Hello, welcome to Python:\n",
      " Hello, welcome to Python:\n",
      " Hello, welcome to Python:\n"
     ]
    }
   ],
   "source": [
    "f = open(\"myfile.txt\", \"r+\")\n",
    "#f=\"\"\n",
    "for i in range(1, 10):\n",
    "    f.write(\"\\n Hello, welcome to Python:\")\n",
    "    \n",
    "f = open(\"myfile.txt\", \"r\")\n",
    "print(f.read())\n",
    "\n",
    "#=============================\n"
   ]
  },
  {
   "cell_type": "code",
   "execution_count": 2,
   "id": "8fbe015b",
   "metadata": {},
   "outputs": [
    {
     "name": "stdout",
     "output_type": "stream",
     "text": [
      "F I L E   C O N T E N T\n",
      "\n",
      " Hello you, welcome to Python:\n",
      " Hello you, welcome to Python:\n",
      " Hello you, welcome to Python:\n",
      " Hello you, welcome to Python:\n",
      " Hello you, welcome to Python:\n",
      " Hello you, welcome to Python:\n",
      " Hello you, welcome to Python:\n",
      " Hello you, welcome to Python:\n",
      " Hello you, welcome to Python: sir/ma, welcome to Python:\n",
      " Hello Everyone, welcome to Python:\n",
      " Hello Everyone, welcome to Python:\n",
      " Hello Everyone, welcome to Python:\n",
      " Hello Everyone, welcome to Python:\n",
      " Hello Everyone, welcome to Python:\n",
      " Hello Everyone, welcome to Python:\n",
      " Hello Everyone, welcome to Python:\n",
      " Hello Everyone, welcome to Python:\n",
      " Hello Everyone, welcome to Python:\n",
      "---------------------------------------------------------------------\n"
     ]
    },
    {
     "ename": "NameError",
     "evalue": "name 'os' is not defined",
     "output_type": "error",
     "traceback": [
      "\u001b[1;31m---------------------------------------------------------------------------\u001b[0m",
      "\u001b[1;31mNameError\u001b[0m                                 Traceback (most recent call last)",
      "Cell \u001b[1;32mIn[2], line 14\u001b[0m\n\u001b[0;32m     12\u001b[0m     \u001b[39mprint\u001b[39m(\u001b[39m\"\u001b[39m\u001b[39m---------------------------------------------------------------------\u001b[39m\u001b[39m\"\u001b[39m)\n\u001b[0;32m     13\u001b[0m     f\u001b[39m.\u001b[39mclose()\n\u001b[1;32m---> 14\u001b[0m     os\u001b[39m.\u001b[39mremove(\u001b[39m\"\u001b[39m\u001b[39mPyFileWite.txt\u001b[39m\u001b[39m\"\u001b[39m)\n\u001b[0;32m     15\u001b[0m     \u001b[39mprint\u001b[39m(\u001b[39m\"\u001b[39m\u001b[39mFile deleted succesfully\u001b[39m\u001b[39m\"\u001b[39m)\n\u001b[0;32m     16\u001b[0m \u001b[39mexcept\u001b[39;00m \u001b[39mValueError\u001b[39;00m:\n",
      "\u001b[1;31mNameError\u001b[0m: name 'os' is not defined"
     ]
    }
   ],
   "source": [
    "#Delete Fie in Python\n",
    "\n",
    "''''from pathlib import Path\n",
    "if os.path.isfile(myfile):\n",
    "    os.remove (\"myfile\")'''\n",
    "try:\n",
    "    e  = \"An Error Occured\"\n",
    "    filepath=\"PyFileWite.txt\"\n",
    "    f = open(filepath, \"r\")\n",
    "    print(\"F I L E   C O N T E N T\")\n",
    "    print(f.read())\n",
    "    print(\"---------------------------------------------------------------------\")\n",
    "    f.close()\n",
    "    os.remove(\"PyFileWite.txt\")\n",
    "    print(\"File deleted succesfully\")\n",
    "except ValueError:\n",
    "    raise ValueError(\"An Error Occured\")"
   ]
  },
  {
   "cell_type": "code",
   "execution_count": 122,
   "id": "68ae2971",
   "metadata": {},
   "outputs": [
    {
     "name": "stdout",
     "output_type": "stream",
     "text": [
      "c:\\Users\\studio\\Documents\\Python Code 2022\n"
     ]
    }
   ],
   "source": [
    "from pathlib import Path\n",
    "print(Path.cwd())"
   ]
  },
  {
   "cell_type": "code",
   "execution_count": 1,
   "id": "3d713fe4",
   "metadata": {},
   "outputs": [
    {
     "ename": "NameError",
     "evalue": "name 'os' is not defined",
     "output_type": "error",
     "traceback": [
      "\u001b[1;31m---------------------------------------------------------------------------\u001b[0m",
      "\u001b[1;31mNameError\u001b[0m                                 Traceback (most recent call last)",
      "Cell \u001b[1;32mIn[1], line 1\u001b[0m\n\u001b[1;32m----> 1\u001b[0m os\u001b[39m.\u001b[39mrename(\u001b[39m\"\u001b[39m\u001b[39mmyfile.txt\u001b[39m\u001b[39m\"\u001b[39m,  \u001b[39m\"\u001b[39m\u001b[39mnew_file_name\u001b[39m\u001b[39m\"\u001b[39m)\n",
      "\u001b[1;31mNameError\u001b[0m: name 'os' is not defined"
     ]
    }
   ],
   "source": [
    "os.rename(\"myfile.txt\",  \"new_file_name\")"
   ]
  },
  {
   "cell_type": "code",
   "execution_count": 1,
   "id": "09960970",
   "metadata": {},
   "outputs": [
    {
     "name": "stdout",
     "output_type": "stream",
     "text": [
      "82569\n"
     ]
    }
   ],
   "source": [
    "exp = [200, 3480, 5439, 8744, 7839, 56867]\n",
    "\n",
    "total = 0\n",
    "\n",
    "for i in exp:\n",
    "    total = total+i\n",
    "    i+=1\n",
    "print(total)\n"
   ]
  },
  {
   "cell_type": "code",
   "execution_count": 3,
   "id": "4db21d93",
   "metadata": {},
   "outputs": [
    {
     "name": "stderr",
     "output_type": "stream",
     "text": [
      "The system cannot find the file specified.\n"
     ]
    }
   ],
   "source": [
    "!jupytext --to notebook <Python_Beginners_1>.py\n"
   ]
  },
  {
   "attachments": {},
   "cell_type": "markdown",
   "id": "f93a9a74",
   "metadata": {},
   "source": [
    "CLASS IN PHYTHON\n",
    "\n",
    "Class: is an abstraction of common entities that contains common set of entities and method\n",
    "\n",
    "Object: an instance of a class\n",
    "\n",
    "Methods: activities or proceedure in a class that is available to any object of the same  class\n",
    "\n"
   ]
  },
  {
   "cell_type": "code",
   "execution_count": 9,
   "id": "4aa48a7c",
   "metadata": {},
   "outputs": [
    {
     "name": "stdout",
     "output_type": "stream",
     "text": [
      "Ogungbade  is a Senior paler\n"
     ]
    }
   ],
   "source": [
    "class Human:\n",
    "    #PYTHON CONSTRUCTOR\n",
    "    def __init__ (self, name, occupation, age):\n",
    "        self.inputName = name\n",
    "        self.inputOccupation = occupation\n",
    "        self.inputAge = age\n",
    "\n",
    "    #PYTHON METHOD\n",
    "    def calculateAge (self):\n",
    "        r = range (19, 25)\n",
    "        if (self.inputAge < 18 and self.inputOccupation == \"IT\"):\n",
    "            print(self.inputName, \" is a junior paler\")\n",
    "        elif self.inputAge  in r:\n",
    "            print(self.inputName, \" is a jmiddle-age paler\")\n",
    "        elif self.inputAge  > 25:\n",
    "            print(self.inputName, \" is a Senior paler\")\n",
    "\n",
    "    \n",
    "    \n",
    "bukunmi = Human (\"Ogungbade\", \"IT\", 36)\n",
    "bukunmi.calculateAge()"
   ]
  },
  {
   "cell_type": "code",
   "execution_count": null,
   "id": "b2de887d",
   "metadata": {},
   "outputs": [],
   "source": []
  }
 ],
 "metadata": {
  "kernelspec": {
   "display_name": "Python 3 (ipykernel)",
   "language": "python",
   "name": "python3"
  },
  "language_info": {
   "codemirror_mode": {
    "name": "ipython",
    "version": 3
   },
   "file_extension": ".py",
   "mimetype": "text/x-python",
   "name": "python",
   "nbconvert_exporter": "python",
   "pygments_lexer": "ipython3",
   "version": "3.11.3"
  }
 },
 "nbformat": 4,
 "nbformat_minor": 5
}
